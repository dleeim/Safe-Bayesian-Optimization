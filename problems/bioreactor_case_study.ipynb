{
 "cells": [
  {
   "cell_type": "code",
   "execution_count": 4,
   "id": "c33c4874",
   "metadata": {},
   "outputs": [],
   "source": [
    "import numpy as np\n",
    "import matplotlib.pyplot as plt\n",
    "from scipy import optimize\n",
    "from scipy.integrate import odeint\n",
    "from matplotlib import ticker, cm\n",
    "from simple_pid import PID\n",
    "import GPy"
   ]
  },
  {
   "cell_type": "code",
   "execution_count": 6,
   "id": "94500944",
   "metadata": {},
   "outputs": [],
   "source": [
    "def bioreactor_ss_equations(x, sp):\n",
    "    \n",
    "    mu_max = 0.5\n",
    "    Ks = 0.2\n",
    "    Yxs = 0.5\n",
    "    si = 20\n",
    "    \n",
    "    cells_conc = sp\n",
    "    s, D = x\n",
    "    \n",
    "    mu = ((mu_max*s)/(Ks + s)) \n",
    "    \n",
    "    df = [\n",
    "        mu - D,\n",
    "        D*si - D*s - ((mu * cells_conc)/(Yxs))\n",
    "        \n",
    "    ]\n",
    "    \n",
    "    return df\n",
    "    "
   ]
  },
  {
   "cell_type": "code",
   "execution_count": 7,
   "id": "d36b4182",
   "metadata": {},
   "outputs": [],
   "source": [
    "def bioreactor_obj(sp, x0):\n",
    "    \n",
    "    cells_conc = sp\n",
    "    s, D = optimize.fsolve(bioreactor_ss_equations, x0 = x0, args = sp)\n",
    "    \n",
    "    x0 = [s,D]\n",
    "    \n",
    "    \n",
    "    return D * cells_conc, x0, D\n",
    "    \n",
    "    "
   ]
  },
  {
   "cell_type": "code",
   "execution_count": 8,
   "id": "935b5ed2",
   "metadata": {},
   "outputs": [],
   "source": [
    "res = optimize.fsolve(bioreactor_ss_equations, x0 = [1, 1], args = 3)"
   ]
  },
  {
   "cell_type": "code",
   "execution_count": 9,
   "id": "82d51260",
   "metadata": {},
   "outputs": [
    {
     "data": {
      "text/plain": [
       "array([14.        ,  0.49295775])"
      ]
     },
     "execution_count": 9,
     "metadata": {},
     "output_type": "execute_result"
    }
   ],
   "source": [
    "res"
   ]
  },
  {
   "cell_type": "code",
   "execution_count": 10,
   "id": "10fe5f0b",
   "metadata": {},
   "outputs": [
    {
     "name": "stderr",
     "output_type": "stream",
     "text": [
      " C:\\Users\\User\\anaconda3\\lib\\site-packages\\scipy\\optimize\\minpack.py:175: RuntimeWarning:xtol=0.000000 is too small, no further improvement in the approximate\n",
      "  solution is possible.\n",
      " C:\\Users\\User\\anaconda3\\lib\\site-packages\\scipy\\optimize\\minpack.py:175: RuntimeWarning:The iteration is not making good progress, as measured by the \n",
      "  improvement from the last ten iterations.\n"
     ]
    }
   ],
   "source": [
    "obj = []\n",
    "D_vals = []\n",
    "x = np.linspace(0,12,1000)\n",
    "x0 = [1,1]\n",
    "for sp in x:\n",
    "    \n",
    "    val, x0, D = bioreactor_obj(sp,x0)\n",
    "    obj.append(val)\n",
    "    D_vals.append(D)\n"
   ]
  },
  {
   "cell_type": "code",
   "execution_count": 11,
   "id": "f92194d8",
   "metadata": {},
   "outputs": [
    {
     "data": {
      "text/plain": [
       "[<matplotlib.lines.Line2D at 0x14ec247cdc0>]"
      ]
     },
     "execution_count": 11,
     "metadata": {},
     "output_type": "execute_result"
    },
    {
     "data": {
      "image/png": "[encoded data removed]",
      "text/plain": [
       "<Figure size 432x288 with 1 Axes>"
      ]
     },
     "metadata": {
      "needs_background": "light"
     },
     "output_type": "display_data"
    }
   ],
   "source": [
    "plt.plot(x, obj)"
   ]
  }
 ],
 "metadata": {
  "kernelspec": {
   "display_name": "Python 3 (ipykernel)",
   "language": "python",
   "name": "python3"
  },
  "language_info": {
   "codemirror_mode": {
    "name": "ipython",
    "version": 3
   },
   "file_extension": ".py",
   "mimetype": "text/x-python",
   "name": "python",
   "nbconvert_exporter": "python",
   "pygments_lexer": "ipython3",
   "version": "3.8.8"
  }
 },
 "nbformat": 4,
 "nbformat_minor": 5
}
